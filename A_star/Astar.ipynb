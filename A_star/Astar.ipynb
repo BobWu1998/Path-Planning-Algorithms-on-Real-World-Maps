{
 "cells": [
  {
   "cell_type": "code",
   "execution_count": 56,
   "metadata": {},
   "outputs": [],
   "source": [
    "import cv2\n",
    "import numpy as np\n",
    "from Astar import graph_search\n",
    "import matplotlib.pyplot as plt\n",
    "import time"
   ]
  },
  {
   "cell_type": "markdown",
   "metadata": {},
   "source": [
    "# Convert jpg to occupancy map"
   ]
  },
  {
   "cell_type": "code",
   "execution_count": 57,
   "metadata": {},
   "outputs": [],
   "source": [
    "filename = 'door_open_square.jpg'\n",
    "im = cv2.imread(filename)\n",
    "im_ = im[:,:,0]\n",
    "white_thres = 250\n",
    "black_thres = 200\n",
    "free_mask = im_ > white_thres\n",
    "occ_map = np.zeros_like(im_)\n",
    "occ_map[np.logical_not(free_mask)] = 1"
   ]
  },
  {
   "cell_type": "markdown",
   "metadata": {},
   "source": [
    "# Graph search"
   ]
  },
  {
   "cell_type": "code",
   "execution_count": 58,
   "metadata": {},
   "outputs": [
    {
     "name": "stdout",
     "output_type": "stream",
     "text": [
      "10.779002904891968\n"
     ]
    }
   ],
   "source": [
    "# start = (515,50)\n",
    "# goal = (347, 560)\n",
    "\n",
    "# start = (560,180)\n",
    "# goal = (220, 555)\n",
    "\n",
    "# start = (220,190)\n",
    "# goal = (472, 560)\n",
    "\n",
    "start = (226,443)\n",
    "goal = (351, 243)\n",
    "\n",
    "start_time = time.time()\n",
    "path, num_node_expanded = graph_search(occ_map, start, goal,astar = False)\n",
    "end = time.time() - start_time\n",
    "print(end)"
   ]
  },
  {
   "cell_type": "code",
   "execution_count": 61,
   "metadata": {},
   "outputs": [
    {
     "ename": "error",
     "evalue": "OpenCV(4.5.5) :-1: error: (-5:Bad argument) in function 'circle'\n> Overload resolution failed:\n>  - Can't parse 'center'. Sequence item with index 0 has a wrong type\n>  - Can't parse 'center'. Sequence item with index 0 has a wrong type\n",
     "output_type": "error",
     "traceback": [
      "\u001b[1;31m---------------------------------------------------------------------------\u001b[0m",
      "\u001b[1;31merror\u001b[0m                                     Traceback (most recent call last)",
      "\u001b[1;32mc:\\Users\\12259\\OneDrive - PennO365\\Penn2022Spring\\ESE650\\final_project\\Astar.ipynb Cell 6'\u001b[0m in \u001b[0;36m<cell line: 9>\u001b[1;34m()\u001b[0m\n\u001b[0;32m      <a href='vscode-notebook-cell:/c%3A/Users/12259/OneDrive%20-%20PennO365/Penn2022Spring/ESE650/final_project/Astar.ipynb#ch0000005?line=5'>6</a>\u001b[0m test_image[occ_map \u001b[39m==\u001b[39m \u001b[39m1\u001b[39m] \u001b[39m=\u001b[39m np\u001b[39m.\u001b[39marray([\u001b[39m0\u001b[39m,\u001b[39m0\u001b[39m,\u001b[39m0\u001b[39m])\n\u001b[0;32m      <a href='vscode-notebook-cell:/c%3A/Users/12259/OneDrive%20-%20PennO365/Penn2022Spring/ESE650/final_project/Astar.ipynb#ch0000005?line=6'>7</a>\u001b[0m \u001b[39m# plt.imshow(test_image)\u001b[39;00m\n\u001b[0;32m      <a href='vscode-notebook-cell:/c%3A/Users/12259/OneDrive%20-%20PennO365/Penn2022Spring/ESE650/final_project/Astar.ipynb#ch0000005?line=7'>8</a>\u001b[0m \u001b[39m# plt.plot(path_array[:,0], path_array[:,1], \"og\", markersize=5)  # og:shorthand for green circle\u001b[39;00m\n\u001b[1;32m----> <a href='vscode-notebook-cell:/c%3A/Users/12259/OneDrive%20-%20PennO365/Penn2022Spring/ESE650/final_project/Astar.ipynb#ch0000005?line=8'>9</a>\u001b[0m cv2\u001b[39m.\u001b[39;49mcircle(test_image, (path_array[:, \u001b[39m1\u001b[39;49m],path_array[:,\u001b[39m0\u001b[39;49m]), radius\u001b[39m=\u001b[39;49m\u001b[39m2\u001b[39;49m, color\u001b[39m=\u001b[39;49m(\u001b[39m255\u001b[39;49m,\u001b[39m0\u001b[39;49m,\u001b[39m0\u001b[39;49m), thickness\u001b[39m=\u001b[39;49m\u001b[39m1\u001b[39;49m)\n\u001b[0;32m     <a href='vscode-notebook-cell:/c%3A/Users/12259/OneDrive%20-%20PennO365/Penn2022Spring/ESE650/final_project/Astar.ipynb#ch0000005?line=9'>10</a>\u001b[0m plt\u001b[39m.\u001b[39mscatter(path_array[\u001b[39m0\u001b[39m, \u001b[39m1\u001b[39m], path_array[\u001b[39m0\u001b[39m, \u001b[39m0\u001b[39m], marker\u001b[39m=\u001b[39m\u001b[39m\"\u001b[39m\u001b[39mo\u001b[39m\u001b[39m\"\u001b[39m, color\u001b[39m=\u001b[39m\u001b[39m\"\u001b[39m\u001b[39mpurple\u001b[39m\u001b[39m\"\u001b[39m, s\u001b[39m=\u001b[39m\u001b[39m50\u001b[39m)\n\u001b[0;32m     <a href='vscode-notebook-cell:/c%3A/Users/12259/OneDrive%20-%20PennO365/Penn2022Spring/ESE650/final_project/Astar.ipynb#ch0000005?line=10'>11</a>\u001b[0m plt\u001b[39m.\u001b[39mscatter(path_array[\u001b[39m-\u001b[39m\u001b[39m1\u001b[39m, \u001b[39m1\u001b[39m], path_array[\u001b[39m-\u001b[39m\u001b[39m1\u001b[39m, \u001b[39m0\u001b[39m], marker\u001b[39m=\u001b[39m\u001b[39m\"\u001b[39m\u001b[39mo\u001b[39m\u001b[39m\"\u001b[39m, color\u001b[39m=\u001b[39m\u001b[39m\"\u001b[39m\u001b[39mgreen\u001b[39m\u001b[39m\"\u001b[39m, s\u001b[39m=\u001b[39m\u001b[39m50\u001b[39m)\n",
      "\u001b[1;31merror\u001b[0m: OpenCV(4.5.5) :-1: error: (-5:Bad argument) in function 'circle'\n> Overload resolution failed:\n>  - Can't parse 'center'. Sequence item with index 0 has a wrong type\n>  - Can't parse 'center'. Sequence item with index 0 has a wrong type\n"
     ]
    }
   ],
   "source": [
    "# plot path\n",
    "path_array = np.array(path)\n",
    "# occ_map[path_array[:,0],path_array[:,1]] = 2\n",
    "test_image = np.zeros_like(im)\n",
    "test_image[occ_map == 0] = np.array([255,255,255])\n",
    "test_image[occ_map == 1] = np.array([0,0,0])\n",
    "# plt.imshow(test_image)\n",
    "plt.scatter(path_array[:,1], path_array[:,0], marker = \"o\",color = 'red' , s=50)  # og:shorthand for green circle\n",
    "# cv2.circle(test_image, (path_array[:, 1],path_array[:,0]), radius=2, color=(255,0,0), thickness=1)\n",
    "plt.scatter(path_array[0, 1], path_array[0, 0], marker=\"o\", color=\"purple\", s=50)\n",
    "plt.scatter(path_array[-1, 1], path_array[-1, 0], marker=\"o\", color=\"green\", s=50)\n",
    "# plt.show()\n",
    "plt.savefig('astar_result4.jpg')"
   ]
  },
  {
   "cell_type": "code",
   "execution_count": 60,
   "metadata": {},
   "outputs": [
    {
     "name": "stdout",
     "output_type": "stream",
     "text": [
      "309.19090885901\n"
     ]
    }
   ],
   "source": [
    "# calculate distance\n",
    "path_array = np.array(path)\n",
    "distance_vector = path_array[1:len(path)] - path_array[0 : len(path_array)-1]\n",
    "\n",
    "distance = np.linalg.norm(distance_vector, axis = 1)\n",
    "sum_distance = np.sum(distance)\n",
    "print(sum_distance)\n"
   ]
  }
 ],
 "metadata": {
  "interpreter": {
   "hash": "25273e815b5ac609c26aa36f9bf0267a8dd6f4e8a79b7144d7ce9aa94ee8a362"
  },
  "kernelspec": {
   "display_name": "Python 3.8.8 64-bit",
   "language": "python",
   "name": "python3"
  },
  "language_info": {
   "codemirror_mode": {
    "name": "ipython",
    "version": 3
   },
   "file_extension": ".py",
   "mimetype": "text/x-python",
   "name": "python",
   "nbconvert_exporter": "python",
   "pygments_lexer": "ipython3",
   "version": "3.8.8"
  },
  "orig_nbformat": 4
 },
 "nbformat": 4,
 "nbformat_minor": 2
}
